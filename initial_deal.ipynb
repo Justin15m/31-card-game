{
 "cells": [
  {
   "cell_type": "code",
   "execution_count": 17,
   "id": "4aca5b4e",
   "metadata": {},
   "outputs": [],
   "source": [
    "import pandas as pd\n",
    "import numpy as np\n",
    "from scipy.stats import norm"
   ]
  },
  {
   "cell_type": "code",
   "execution_count": 5,
   "id": "d795af43",
   "metadata": {},
   "outputs": [],
   "source": [
    "def initial_deal():\n",
    "\n",
    "    deck=pd.DataFrame({\n",
    "        'suit': ['Hearts', 'Diamonds', 'Clubs', 'Spades']*13,\n",
    "        'rank': ['2', '3', '4', '5', '6', '7', '8', '9', '10', 'J', 'Q', 'K', 'A']*4,\n",
    "        'value': [2, 3, 4, 5, 6, 7, 8, 9, 10, 10, 10, 10, 11]*4,\n",
    "    })\n",
    "\n",
    "    shuffle_deck=deck.sample(frac=1).reset_index(drop=True)\n",
    "\n",
    "    hand=shuffle_deck.iloc[[0,2,4]]\n",
    "    hand_values=hand.groupby('suit').agg(\n",
    "    value=('value','sum'),)\n",
    "    result=hand_values['value'].max()\n",
    "    return result"
   ]
  },
  {
   "cell_type": "code",
   "execution_count": 7,
   "id": "fb187724",
   "metadata": {},
   "outputs": [
    {
     "data": {
      "text/plain": [
       "np.int64(13)"
      ]
     },
     "execution_count": 7,
     "metadata": {},
     "output_type": "execute_result"
    }
   ],
   "source": [
    "initial_deal()"
   ]
  },
  {
   "cell_type": "code",
   "execution_count": 25,
   "id": "4ce46d25",
   "metadata": {},
   "outputs": [],
   "source": [
    "all_results=[]\n",
    "for _ in range(10000):\n",
    "    all_results.append(initial_deal())"
   ]
  },
  {
   "cell_type": "code",
   "execution_count": 26,
   "id": "c48d2318",
   "metadata": {},
   "outputs": [
    {
     "name": "stdout",
     "output_type": "stream",
     "text": [
      "13.0892 4.465002055990568\n"
     ]
    }
   ],
   "source": [
    "print(np.mean(all_results), np.std(all_results))"
   ]
  },
  {
   "cell_type": "code",
   "execution_count": null,
   "id": "35a0fbc1",
   "metadata": {},
   "outputs": [],
   "source": []
  }
 ],
 "metadata": {
  "kernelspec": {
   "display_name": "Box",
   "language": "python",
   "name": "python3"
  },
  "language_info": {
   "codemirror_mode": {
    "name": "ipython",
    "version": 3
   },
   "file_extension": ".py",
   "mimetype": "text/x-python",
   "name": "python",
   "nbconvert_exporter": "python",
   "pygments_lexer": "ipython3",
   "version": "3.13.7"
  }
 },
 "nbformat": 4,
 "nbformat_minor": 5
}
