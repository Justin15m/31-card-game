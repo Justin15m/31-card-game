{
 "cells": [
  {
   "cell_type": "code",
   "execution_count": 34,
   "id": "1f23db8f",
   "metadata": {},
   "outputs": [],
   "source": [
    "import pandas as pd\n",
    "import numpy as np\n",
    "from itertools import combinations\n",
    "\n",
    "def max_val_dec(num_rounds):\n",
    "\n",
    "    deck=pd.DataFrame({\n",
    "        'suit': ['Hearts', 'Diamonds', 'Clubs', 'Spades']*13,\n",
    "        'rank': ['2', '3', '4', '5', '6', '7', '8', '9', '10', 'J', 'Q', 'K', 'A']*4,\n",
    "        'value': [2, 3, 4, 5, 6, 7, 8, 9, 10, 10, 10, 10, 11]*4,\n",
    "    })\n",
    "\n",
    "    shuffle_deck=deck.sample(frac=1).reset_index(drop=True)\n",
    "\n",
    "    hand=shuffle_deck.iloc[[0,2,4]]\n",
    "    shuffle_deck.drop([0,2,4], inplace=True)\n",
    "    shuffle_deck.reset_index(drop=True, inplace=True)\n",
    "\n",
    "    top_card=shuffle_deck.iloc[range(num_rounds)]\n",
    "    shuffle_deck.drop(0, inplace=True)\n",
    "    shuffle_deck.reset_index(drop=True, inplace=True)\n",
    "\n",
    "    decision=pd.concat([hand, top_card], ignore_index=True)\n",
    "\n",
    "    from itertools import combinations\n",
    "    combo_lst=[]\n",
    "    value_lst=[]\n",
    "    for i in combinations(range(3+num_rounds), 3):\n",
    "        combo_lst.append(i)\n",
    "        value_lst.append(decision.iloc[list(i)].groupby('suit').agg(value=('value', 'sum'))['value'].max())\n",
    "    \n",
    "    return max(value_lst),decision\n",
    "\n",
    "    "
   ]
  },
  {
   "cell_type": "code",
   "execution_count": 37,
   "id": "4fdb51e0",
   "metadata": {},
   "outputs": [
    {
     "data": {
      "text/plain": [
       "(np.int64(21),\n",
       "        suit rank  value\n",
       " 0  Diamonds    5      5\n",
       " 1  Diamonds    3      3\n",
       " 2    Hearts    5      5\n",
       " 3  Diamonds    9      9\n",
       " 4  Diamonds    7      7\n",
       " 5     Clubs    3      3)"
      ]
     },
     "execution_count": 37,
     "metadata": {},
     "output_type": "execute_result"
    }
   ],
   "source": [
    "max_val_dec(3)"
   ]
  },
  {
   "cell_type": "code",
   "execution_count": 46,
   "id": "4288e7fb",
   "metadata": {},
   "outputs": [
    {
     "data": {
      "text/plain": [
       "np.int64(19)"
      ]
     },
     "execution_count": 46,
     "metadata": {},
     "output_type": "execute_result"
    }
   ],
   "source": [
    "max_val_dec(1)[0]"
   ]
  },
  {
   "cell_type": "code",
   "execution_count": null,
   "id": "618ba4d0",
   "metadata": {},
   "outputs": [
    {
     "name": "stdout",
     "output_type": "stream",
     "text": [
      "15.815 4.896200057187206\n",
      "18.664 5.062519530826523\n",
      "20.417 4.882121567515499\n",
      "22.632 4.4553985231402145\n"
     ]
    }
   ],
   "source": [
    "for y in range(1,5):\n",
    "    all_results=[]\n",
    "    for i in range(1000):\n",
    "        all_results.append(max_val_dec(y)[0])\n",
    "    avg=np.mean(all_results)\n",
    "    std=np.std(all_results)\n",
    "    print(y,avg,std)"
   ]
  },
  {
   "cell_type": "code",
   "execution_count": 39,
   "id": "fe0cf7e9",
   "metadata": {},
   "outputs": [
    {
     "name": "stdout",
     "output_type": "stream",
     "text": [
      "1\n",
      "2\n",
      "3\n",
      "4\n"
     ]
    }
   ],
   "source": [
    "for y in range(1,5):\n",
    "    print(y)"
   ]
  },
  {
   "cell_type": "code",
   "execution_count": null,
   "id": "42e3337e",
   "metadata": {},
   "outputs": [],
   "source": []
  }
 ],
 "metadata": {
  "kernelspec": {
   "display_name": "Box",
   "language": "python",
   "name": "python3"
  },
  "language_info": {
   "codemirror_mode": {
    "name": "ipython",
    "version": 3
   },
   "file_extension": ".py",
   "mimetype": "text/x-python",
   "name": "python",
   "nbconvert_exporter": "python",
   "pygments_lexer": "ipython3",
   "version": "3.13.7"
  }
 },
 "nbformat": 4,
 "nbformat_minor": 5
}
