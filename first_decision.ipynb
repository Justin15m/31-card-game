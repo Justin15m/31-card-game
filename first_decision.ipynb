{
 "cells": [
  {
   "cell_type": "code",
   "execution_count": 3,
   "id": "213ac32a",
   "metadata": {},
   "outputs": [],
   "source": [
    "import pandas as pd\n",
    "import numpy as np"
   ]
  },
  {
   "cell_type": "code",
   "execution_count": 5,
   "id": "be1446c9",
   "metadata": {},
   "outputs": [],
   "source": [
    "def first_decision():\n",
    "\n",
    "    deck=pd.DataFrame({\n",
    "        'suit': ['Hearts', 'Diamonds', 'Clubs', 'Spades']*13,\n",
    "        'rank': ['2', '3', '4', '5', '6', '7', '8', '9', '10', 'J', 'Q', 'K', 'A']*4,\n",
    "        'value': [2, 3, 4, 5, 6, 7, 8, 9, 10, 10, 10, 10, 11]*4,\n",
    "    })\n",
    "\n",
    "    shuffle_deck=deck.sample(frac=1).reset_index(drop=True)\n",
    "\n",
    "    hand=shuffle_deck.iloc[[0,2,4]]\n",
    "    shuffle_deck.drop([0,2,4], inplace=True)\n",
    "    shuffle_deck.reset_index(drop=True, inplace=True)\n",
    "\n",
    "    top_card=shuffle_deck.iloc[0]\n",
    "    shuffle_deck.drop(0, inplace=True)\n",
    "    shuffle_deck.reset_index(drop=True, inplace=True)\n",
    "\n",
    "    decision=pd.concat([hand, pd.DataFrame([top_card])], ignore_index=True)\n",
    "    \n",
    "    return decision\n"
   ]
  },
  {
   "cell_type": "code",
   "execution_count": 8,
   "id": "321f65f7",
   "metadata": {},
   "outputs": [
    {
     "name": "stdout",
     "output_type": "stream",
     "text": [
      "       suit rank  value\n",
      "0    Spades    K     10\n",
      "1     Clubs    8      8\n",
      "2  Diamonds    3      3\n",
      "3     Clubs    7      7\n"
     ]
    }
   ],
   "source": [
    "current=first_decision()\n",
    "print(current)"
   ]
  },
  {
   "cell_type": "code",
   "execution_count": null,
   "id": "ef88c201",
   "metadata": {},
   "outputs": [],
   "source": [
    "import pandas as pd\n",
    "import numpy as np\n",
    "from itertools import combinations\n",
    "\n",
    "def first_decision():\n",
    "    deck = pd.DataFrame({\n",
    "        'suit': ['Hearts', 'Diamonds', 'Clubs', 'Spades'] * 13,\n",
    "        'rank': ['2', '3', '4', '5', '6', '7', '8', '9', '10', 'J', 'Q', 'K', 'A'] * 4,\n",
    "        'value': [2, 3, 4, 5, 6, 7, 8, 9, 10, 10, 10, 10, 11] * 4,\n",
    "    })\n",
    "\n",
    "    shuffle_deck = deck.sample(frac=1).reset_index(drop=True)\n",
    "    hand = shuffle_deck.iloc[[0, 2, 4]]\n",
    "    shuffle_deck.drop([0, 2, 4], inplace=True)\n",
    "    shuffle_deck.reset_index(drop=True, inplace=True)\n",
    "\n",
    "    top_card = shuffle_deck.iloc[0]\n",
    "    shuffle_deck.drop(0, inplace=True)\n",
    "    shuffle_deck.reset_index(drop=True, inplace=True)\n",
    "\n",
    "    # Combine hand and top card\n",
    "    decision = pd.concat([hand, pd.DataFrame([top_card])], ignore_index=True)\n",
    "\n",
    "    # Find the best 3-card combination\n",
    "    max_points = 0\n",
    "    best_combo = None\n",
    "    for idxs in combinations(range(4), 3):\n",
    "        combo = decision.iloc[list(idxs)]\n",
    "        suit_points = combo.groupby('suit')['value'].sum()\n",
    "        suit_max = suit_points.max()\n",
    "        if suit_max > max_points:\n",
    "            max_points = suit_max\n",
    "            best_combo = combo\n",
    "\n",
    "    return max_points  # or return best_combo if you want the cards\n",
    "\n",
    "# Example usage:\n",
    "# print(first_decision())"
   ]
  },
  {
   "cell_type": "code",
   "execution_count": 35,
   "id": "0e2a6d10",
   "metadata": {},
   "outputs": [],
   "source": [
    "from itertools import combinations\n",
    "all_combos=[]\n",
    "all_values=[]\n",
    "for i in combinations(range(4), 3):\n",
    "    combo=current.iloc[list(i)]\n",
    "    all_combos.append(i)\n",
    "    all_values.append(combo.groupby('suit').agg(value=('value', 'sum'))['value'].max())"
   ]
  },
  {
   "cell_type": "code",
   "execution_count": 10,
   "id": "ec8c230d",
   "metadata": {},
   "outputs": [],
   "source": [
    "from itertools import combinations\n",
    "combo_lst=[]\n",
    "value_lst=[]\n",
    "for i in combinations(range(4), 3):\n",
    "    combo_lst.append(i)\n",
    "    value_lst.append(current.iloc[list(i)].groupby('suit').agg(value=('value', 'sum'))['value'].max())\n"
   ]
  },
  {
   "cell_type": "code",
   "execution_count": 12,
   "id": "e0aef958",
   "metadata": {},
   "outputs": [
    {
     "data": {
      "text/plain": [
       "(array([1, 3]),)"
      ]
     },
     "execution_count": 12,
     "metadata": {},
     "output_type": "execute_result"
    }
   ],
   "source": [
    "np.where(value_lst==max(value_lst))"
   ]
  },
  {
   "cell_type": "code",
   "execution_count": 36,
   "id": "1f23db8f",
   "metadata": {},
   "outputs": [],
   "source": [
    "def max_val_dec(num_players,num_rounds):\n",
    "\n",
    "    deck=pd.DataFrame({\n",
    "        'suit': ['Hearts', 'Diamonds', 'Clubs', 'Spades']*13,\n",
    "        'rank': ['2', '3', '4', '5', '6', '7', '8', '9', '10', 'J', 'Q', 'K', 'A']*4,\n",
    "        'value': [2, 3, 4, 5, 6, 7, 8, 9, 10, 10, 10, 10, 11]*4,\n",
    "    })\n",
    "\n",
    "    shuffle_deck=deck.sample(frac=1).reset_index(drop=True)\n",
    "\n",
    "    hand=shuffle_deck.iloc[[0,0+num_players,0+2*num_players]]\n",
    "    shuffle_deck.drop([0,2,4], inplace=True)\n",
    "    shuffle_deck.reset_index(drop=True, inplace=True)\n",
    "\n",
    "    top_card=shuffle_deck.iloc[list(range(num_rounds))]\n",
    "    shuffle_deck.drop(0, inplace=True)\n",
    "    shuffle_deck.reset_index(drop=True, inplace=True)\n",
    "\n",
    "    decision=pd.concat([hand, pd.DataFrame([top_card])], ignore_index=True)\n",
    "\n",
    "    from itertools import combinations\n",
    "    combo_lst=[]\n",
    "    value_lst=[]\n",
    "    for i in combinations(range(3+num_rounds), 3):\n",
    "        combo_lst.append(i)\n",
    "        value_lst.append(decision.iloc[list(i)].groupby('suit').agg(value=('value', 'sum'))['value'].max())\n",
    "    \n",
    "    return max(value_lst),decision\n",
    "\n",
    "    "
   ]
  },
  {
   "cell_type": "code",
   "execution_count": 38,
   "id": "4fdb51e0",
   "metadata": {},
   "outputs": [
    {
     "ename": "ValueError",
     "evalue": "Must pass 2-d input. shape=(1, 0, 3)",
     "output_type": "error",
     "traceback": [
      "\u001b[31m---------------------------------------------------------------------------\u001b[39m",
      "\u001b[31mValueError\u001b[39m                                Traceback (most recent call last)",
      "\u001b[36mCell\u001b[39m\u001b[36m \u001b[39m\u001b[32mIn[38]\u001b[39m\u001b[32m, line 1\u001b[39m\n\u001b[32m----> \u001b[39m\u001b[32m1\u001b[39m \u001b[43mmax_val_dec\u001b[49m\u001b[43m(\u001b[49m\u001b[32;43m2\u001b[39;49m\u001b[43m,\u001b[49m\u001b[32;43m0\u001b[39;49m\u001b[43m)\u001b[49m\n",
      "\u001b[36mCell\u001b[39m\u001b[36m \u001b[39m\u001b[32mIn[36]\u001b[39m\u001b[32m, line 19\u001b[39m, in \u001b[36mmax_val_dec\u001b[39m\u001b[34m(num_players, num_rounds)\u001b[39m\n\u001b[32m     16\u001b[39m shuffle_deck.drop(\u001b[32m0\u001b[39m, inplace=\u001b[38;5;28;01mTrue\u001b[39;00m)\n\u001b[32m     17\u001b[39m shuffle_deck.reset_index(drop=\u001b[38;5;28;01mTrue\u001b[39;00m, inplace=\u001b[38;5;28;01mTrue\u001b[39;00m)\n\u001b[32m---> \u001b[39m\u001b[32m19\u001b[39m decision=pd.concat([hand, \u001b[43mpd\u001b[49m\u001b[43m.\u001b[49m\u001b[43mDataFrame\u001b[49m\u001b[43m(\u001b[49m\u001b[43m[\u001b[49m\u001b[43mtop_card\u001b[49m\u001b[43m]\u001b[49m\u001b[43m)\u001b[49m], ignore_index=\u001b[38;5;28;01mTrue\u001b[39;00m)\n\u001b[32m     21\u001b[39m \u001b[38;5;28;01mfrom\u001b[39;00m\u001b[38;5;250m \u001b[39m\u001b[34;01mitertools\u001b[39;00m\u001b[38;5;250m \u001b[39m\u001b[38;5;28;01mimport\u001b[39;00m combinations\n\u001b[32m     22\u001b[39m combo_lst=[]\n",
      "\u001b[36mFile \u001b[39m\u001b[32mc:\\Users\\Justi\\OneDrive\\Documentos\\31 card game\\Box\\Lib\\site-packages\\pandas\\core\\frame.py:867\u001b[39m, in \u001b[36mDataFrame.__init__\u001b[39m\u001b[34m(self, data, index, columns, dtype, copy)\u001b[39m\n\u001b[32m    859\u001b[39m         mgr = arrays_to_mgr(\n\u001b[32m    860\u001b[39m             arrays,\n\u001b[32m    861\u001b[39m             columns,\n\u001b[32m   (...)\u001b[39m\u001b[32m    864\u001b[39m             typ=manager,\n\u001b[32m    865\u001b[39m         )\n\u001b[32m    866\u001b[39m     \u001b[38;5;28;01melse\u001b[39;00m:\n\u001b[32m--> \u001b[39m\u001b[32m867\u001b[39m         mgr = \u001b[43mndarray_to_mgr\u001b[49m\u001b[43m(\u001b[49m\n\u001b[32m    868\u001b[39m \u001b[43m            \u001b[49m\u001b[43mdata\u001b[49m\u001b[43m,\u001b[49m\n\u001b[32m    869\u001b[39m \u001b[43m            \u001b[49m\u001b[43mindex\u001b[49m\u001b[43m,\u001b[49m\n\u001b[32m    870\u001b[39m \u001b[43m            \u001b[49m\u001b[43mcolumns\u001b[49m\u001b[43m,\u001b[49m\n\u001b[32m    871\u001b[39m \u001b[43m            \u001b[49m\u001b[43mdtype\u001b[49m\u001b[43m=\u001b[49m\u001b[43mdtype\u001b[49m\u001b[43m,\u001b[49m\n\u001b[32m    872\u001b[39m \u001b[43m            \u001b[49m\u001b[43mcopy\u001b[49m\u001b[43m=\u001b[49m\u001b[43mcopy\u001b[49m\u001b[43m,\u001b[49m\n\u001b[32m    873\u001b[39m \u001b[43m            \u001b[49m\u001b[43mtyp\u001b[49m\u001b[43m=\u001b[49m\u001b[43mmanager\u001b[49m\u001b[43m,\u001b[49m\n\u001b[32m    874\u001b[39m \u001b[43m        \u001b[49m\u001b[43m)\u001b[49m\n\u001b[32m    875\u001b[39m \u001b[38;5;28;01melse\u001b[39;00m:\n\u001b[32m    876\u001b[39m     mgr = dict_to_mgr(\n\u001b[32m    877\u001b[39m         {},\n\u001b[32m    878\u001b[39m         index,\n\u001b[32m   (...)\u001b[39m\u001b[32m    881\u001b[39m         typ=manager,\n\u001b[32m    882\u001b[39m     )\n",
      "\u001b[36mFile \u001b[39m\u001b[32mc:\\Users\\Justi\\OneDrive\\Documentos\\31 card game\\Box\\Lib\\site-packages\\pandas\\core\\internals\\construction.py:319\u001b[39m, in \u001b[36mndarray_to_mgr\u001b[39m\u001b[34m(values, index, columns, dtype, copy, typ)\u001b[39m\n\u001b[32m    314\u001b[39m     values = _ensure_2d(values)\n\u001b[32m    316\u001b[39m \u001b[38;5;28;01melse\u001b[39;00m:\n\u001b[32m    317\u001b[39m     \u001b[38;5;66;03m# by definition an array here\u001b[39;00m\n\u001b[32m    318\u001b[39m     \u001b[38;5;66;03m# the dtypes will be coerced to a single dtype\u001b[39;00m\n\u001b[32m--> \u001b[39m\u001b[32m319\u001b[39m     values = \u001b[43m_prep_ndarraylike\u001b[49m\u001b[43m(\u001b[49m\u001b[43mvalues\u001b[49m\u001b[43m,\u001b[49m\u001b[43m \u001b[49m\u001b[43mcopy\u001b[49m\u001b[43m=\u001b[49m\u001b[43mcopy_on_sanitize\u001b[49m\u001b[43m)\u001b[49m\n\u001b[32m    321\u001b[39m \u001b[38;5;28;01mif\u001b[39;00m dtype \u001b[38;5;129;01mis\u001b[39;00m \u001b[38;5;129;01mnot\u001b[39;00m \u001b[38;5;28;01mNone\u001b[39;00m \u001b[38;5;129;01mand\u001b[39;00m values.dtype != dtype:\n\u001b[32m    322\u001b[39m     \u001b[38;5;66;03m# GH#40110 see similar check inside sanitize_array\u001b[39;00m\n\u001b[32m    323\u001b[39m     values = sanitize_array(\n\u001b[32m    324\u001b[39m         values,\n\u001b[32m    325\u001b[39m         \u001b[38;5;28;01mNone\u001b[39;00m,\n\u001b[32m   (...)\u001b[39m\u001b[32m    328\u001b[39m         allow_2d=\u001b[38;5;28;01mTrue\u001b[39;00m,\n\u001b[32m    329\u001b[39m     )\n",
      "\u001b[36mFile \u001b[39m\u001b[32mc:\\Users\\Justi\\OneDrive\\Documentos\\31 card game\\Box\\Lib\\site-packages\\pandas\\core\\internals\\construction.py:582\u001b[39m, in \u001b[36m_prep_ndarraylike\u001b[39m\u001b[34m(values, copy)\u001b[39m\n\u001b[32m    579\u001b[39m \u001b[38;5;28;01melse\u001b[39;00m:\n\u001b[32m    580\u001b[39m     values = convert(values)\n\u001b[32m--> \u001b[39m\u001b[32m582\u001b[39m \u001b[38;5;28;01mreturn\u001b[39;00m \u001b[43m_ensure_2d\u001b[49m\u001b[43m(\u001b[49m\u001b[43mvalues\u001b[49m\u001b[43m)\u001b[49m\n",
      "\u001b[36mFile \u001b[39m\u001b[32mc:\\Users\\Justi\\OneDrive\\Documentos\\31 card game\\Box\\Lib\\site-packages\\pandas\\core\\internals\\construction.py:592\u001b[39m, in \u001b[36m_ensure_2d\u001b[39m\u001b[34m(values)\u001b[39m\n\u001b[32m    590\u001b[39m     values = values.reshape((values.shape[\u001b[32m0\u001b[39m], \u001b[32m1\u001b[39m))\n\u001b[32m    591\u001b[39m \u001b[38;5;28;01melif\u001b[39;00m values.ndim != \u001b[32m2\u001b[39m:\n\u001b[32m--> \u001b[39m\u001b[32m592\u001b[39m     \u001b[38;5;28;01mraise\u001b[39;00m \u001b[38;5;167;01mValueError\u001b[39;00m(\u001b[33mf\u001b[39m\u001b[33m\"\u001b[39m\u001b[33mMust pass 2-d input. shape=\u001b[39m\u001b[38;5;132;01m{\u001b[39;00mvalues.shape\u001b[38;5;132;01m}\u001b[39;00m\u001b[33m\"\u001b[39m)\n\u001b[32m    593\u001b[39m \u001b[38;5;28;01mreturn\u001b[39;00m values\n",
      "\u001b[31mValueError\u001b[39m: Must pass 2-d input. shape=(1, 0, 3)"
     ]
    }
   ],
   "source": [
    "max_val_dec(2,0)"
   ]
  },
  {
   "cell_type": "code",
   "execution_count": 35,
   "id": "9f4a3b6e",
   "metadata": {},
   "outputs": [
    {
     "data": {
      "text/plain": [
       "[0, 1, 2, 3]"
      ]
     },
     "execution_count": 35,
     "metadata": {},
     "output_type": "execute_result"
    }
   ],
   "source": [
    "list(range(4))"
   ]
  },
  {
   "cell_type": "code",
   "execution_count": null,
   "id": "fe88372f",
   "metadata": {},
   "outputs": [],
   "source": []
  }
 ],
 "metadata": {
  "kernelspec": {
   "display_name": "Box",
   "language": "python",
   "name": "python3"
  },
  "language_info": {
   "codemirror_mode": {
    "name": "ipython",
    "version": 3
   },
   "file_extension": ".py",
   "mimetype": "text/x-python",
   "name": "python",
   "nbconvert_exporter": "python",
   "pygments_lexer": "ipython3",
   "version": "3.13.7"
  }
 },
 "nbformat": 4,
 "nbformat_minor": 5
}
